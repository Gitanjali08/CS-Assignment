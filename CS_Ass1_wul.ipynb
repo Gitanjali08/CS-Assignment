{
  "nbformat": 4,
  "nbformat_minor": 0,
  "metadata": {
    "colab": {
      "provenance": []
    },
    "kernelspec": {
      "name": "python3",
      "display_name": "Python 3"
    },
    "language_info": {
      "name": "python"
    }
  },
  "cells": [
    {
      "cell_type": "code",
      "execution_count": 1,
      "metadata": {
        "id": "roDapk5l8OgN"
      },
      "outputs": [],
      "source": [
        "import numpy as np\n",
        "import matplotlib.pyplot as plt"
      ]
    },
    {
      "cell_type": "code",
      "source": [
        "x=np.array([75,62,80,56,35,47,68,90,70,45])\n",
        "y=np.array([64,60,76,65,45,50,60,75,25,50])"
      ],
      "metadata": {
        "id": "KMppFrBL8bw9"
      },
      "execution_count": 2,
      "outputs": []
    },
    {
      "cell_type": "code",
      "source": [
        "mean1=sum(x)/len(x)\n",
        "mean2=sum(y)/len(y)\n",
        "print(\"Mean of first array= \"+str(mean1))\n",
        "print(\"Mean of second array= \"+str(mean2))"
      ],
      "metadata": {
        "colab": {
          "base_uri": "https://localhost:8080/"
        },
        "id": "Oi3bC2wi96RV",
        "outputId": "37c6c2dd-401c-4847-be84-d0d57ba9f4c4"
      },
      "execution_count": 19,
      "outputs": [
        {
          "output_type": "stream",
          "name": "stdout",
          "text": [
            "Mean of first array= 62.8\n",
            "Mean of second array= 57.0\n"
          ]
        }
      ]
    },
    {
      "cell_type": "code",
      "source": [
        "variance1=sum([((i-mean1)**2) for i in x])/len(x)\n",
        "variance2=sum([((i-mean2)**2) for i in y])/len(y)\n",
        "print(\"Variance1=\"+str(variance1))\n",
        "print(\"Variance2=\"+str(variance2))"
      ],
      "metadata": {
        "colab": {
          "base_uri": "https://localhost:8080/"
        },
        "id": "0MRNgAsK_O2Q",
        "outputId": "07231bcb-5b63-4ec4-d52c-ef7d2897ecf1"
      },
      "execution_count": 20,
      "outputs": [
        {
          "output_type": "stream",
          "name": "stdout",
          "text": [
            "Variance1=264.96000000000004\n",
            "Variance2=208.2\n"
          ]
        }
      ]
    },
    {
      "cell_type": "code",
      "source": [
        "sd1=variance1**0.5\n",
        "sd2=variance2**0.5\n",
        "print(\"Standard deviation1 are:\"+str(sd1))\n",
        "print(\"Standard deviation2 are:\"+str(sd2))"
      ],
      "metadata": {
        "colab": {
          "base_uri": "https://localhost:8080/"
        },
        "id": "anWst_ad_fLQ",
        "outputId": "d8d08865-6647-4424-96f3-2a1ec1c156d9"
      },
      "execution_count": 21,
      "outputs": [
        {
          "output_type": "stream",
          "name": "stdout",
          "text": [
            "Standard deviation1 are:16.277591959500644\n",
            "Standard deviation2 are:14.429137188342205\n"
          ]
        }
      ]
    },
    {
      "cell_type": "code",
      "source": [
        "sub1=[i-mean1 for i in x]\n",
        "sub2=[i-mean2 for i in y]\n",
        "cov=sum([sub1[i]*sub2[i] for i in range (len(sub1))])/len(x)\n",
        "print(\"\\nCovariance=\"+str(cov))"
      ],
      "metadata": {
        "colab": {
          "base_uri": "https://localhost:8080/"
        },
        "id": "pdm3MtDC_i1F",
        "outputId": "0e2e3f72-a628-461e-95da-d45eafbcf0fa"
      },
      "execution_count": 24,
      "outputs": [
        {
          "output_type": "stream",
          "name": "stdout",
          "text": [
            "\n",
            "Covariance=119.9\n"
          ]
        }
      ]
    },
    {
      "cell_type": "code",
      "source": [
        "cor=cov/(sd1*sd2)\n",
        "print(\"Correlation=\"+str(cor))"
      ],
      "metadata": {
        "colab": {
          "base_uri": "https://localhost:8080/"
        },
        "id": "R48FYRED_raQ",
        "outputId": "361928ed-20fd-4b5d-8617-f65cc8b27bd5"
      },
      "execution_count": 25,
      "outputs": [
        {
          "output_type": "stream",
          "name": "stdout",
          "text": [
            "Correlation=0.5104916736709855\n"
          ]
        }
      ]
    },
    {
      "cell_type": "code",
      "source": [
        "cov_mat=np.stack((x,y),axis=0)\n",
        "print(\"Covariance matrix of dataset=\")\n",
        "print(np.cov(cov_mat))"
      ],
      "metadata": {
        "colab": {
          "base_uri": "https://localhost:8080/"
        },
        "id": "FhFWn5_bAHjq",
        "outputId": "b3595093-35cf-4a86-e708-d5400440b58f"
      },
      "execution_count": 27,
      "outputs": [
        {
          "output_type": "stream",
          "name": "stdout",
          "text": [
            "Covariance matrix of dataset=\n",
            "[[294.4        133.22222222]\n",
            " [133.22222222 231.33333333]]\n"
          ]
        }
      ]
    },
    {
      "cell_type": "code",
      "source": [
        "plt.plot(x,y,c=\"red\")\n",
        "plt.grid()\n",
        "plt.title(\"Scatter Plot\")\n",
        "plt.show()"
      ],
      "metadata": {
        "colab": {
          "base_uri": "https://localhost:8080/",
          "height": 281
        },
        "id": "TOIXOpPIAL9u",
        "outputId": "7b889cbb-3421-4393-d5a3-f4513a21c18e"
      },
      "execution_count": 29,
      "outputs": [
        {
          "output_type": "display_data",
          "data": {
            "text/plain": [
              "<Figure size 432x288 with 1 Axes>"
            ],
            "image/png": "[encoded data removed]"
          },
          "metadata": {
            "needs_background": "light"
          }
        }
      ]
    },
    {
      "cell_type": "code",
      "source": [],
      "metadata": {
        "id": "jNFlowpiATMB"
      },
      "execution_count": null,
      "outputs": []
    }
  ]
}